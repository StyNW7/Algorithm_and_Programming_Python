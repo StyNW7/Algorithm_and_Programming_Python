{
 "cells": [
  {
   "cell_type": "markdown",
   "metadata": {},
   "source": [
    "# Session 02 - Arithmetic and Operators"
   ]
  },
  {
   "cell_type": "markdown",
   "metadata": {},
   "source": [
    "### Course Outline\n",
    "\n",
    "<ul>\n",
    "  <li>Operator and Operand</li>\n",
    "  <li>Arithmetic Operators</li>\n",
    "  <li>Assignment Operators</li>\n",
    "  <li>Relational Operators</li>\n",
    "  <li>Logical Operators</li>\n",
    "  <li>Bitwise Operators</li>\n",
    "  <li>Precedences and Associative Operators</li>\n",
    "</ul>\n"
   ]
  },
  {
   "cell_type": "markdown",
   "metadata": {},
   "source": [
    "### Section 0 - Arithmetic Operators"
   ]
  },
  {
   "cell_type": "code",
   "execution_count": 11,
   "metadata": {},
   "outputs": [
    {
     "name": "stdout",
     "output_type": "stream",
     "text": [
      "13\n",
      "7\n",
      "30\n",
      "3.3333333333333335\n",
      "1\n",
      "1000\n",
      "3\n",
      "39\n",
      "19\n",
      "20\n",
      "30\n"
     ]
    }
   ],
   "source": [
    "# Arithmetic Operators\n",
    "\n",
    "num1 = 10\n",
    "num2 = 3\n",
    "\n",
    "print (num1+num2) # Addition\n",
    "print (num1-num2) # Substraction\n",
    "print (num1*num2) # Multiplication\n",
    "print (num1/num2) # Division\n",
    "print (num1%num2) # Modulo\n",
    "print (num1**num2) # Power\n",
    "print (num1//num2) # Floor Division\n",
    "\n",
    "# Precedences and Associative Operators\n",
    "\n",
    "total1 = (num1 + num2) * num2\n",
    "print (total1)\n",
    "\n",
    "total2 = num1 + num2 * num2\n",
    "print (total2)\n",
    "\n",
    "result = 10 + 5 * 2  # Output: 20\n",
    "print(result)\n",
    "\n",
    "result = (10 + 5) * 2  # Output: 30\n",
    "print(result)"
   ]
  },
  {
   "cell_type": "markdown",
   "metadata": {},
   "source": [
    "### Section 1 - Assignment Operators"
   ]
  },
  {
   "cell_type": "code",
   "execution_count": 12,
   "metadata": {},
   "outputs": [
    {
     "name": "stdout",
     "output_type": "stream",
     "text": [
      "15\n",
      "30\n"
     ]
    }
   ],
   "source": [
    "x = 10\n",
    "x += 5  # Is the same as x = x + 5\n",
    "print(x)  # Output: 15\n",
    "x *= 2  # Is the same as x = x * 2\n",
    "print(x)  # Output: 30"
   ]
  },
  {
   "cell_type": "markdown",
   "metadata": {},
   "source": [
    "### Section 2 - Relational Operators"
   ]
  },
  {
   "cell_type": "code",
   "execution_count": 13,
   "metadata": {},
   "outputs": [
    {
     "name": "stdout",
     "output_type": "stream",
     "text": [
      "True\n",
      "False\n",
      "True\n"
     ]
    }
   ],
   "source": [
    "a = 10\n",
    "b = 5\n",
    "\n",
    "print(a > b)  # Output: True\n",
    "print(a == b)  # Output: False\n",
    "print(a != b)  # Output: True\n"
   ]
  },
  {
   "cell_type": "markdown",
   "metadata": {},
   "source": [
    "### Section 3 - Logical Operators"
   ]
  },
  {
   "cell_type": "code",
   "execution_count": 14,
   "metadata": {},
   "outputs": [
    {
     "name": "stdout",
     "output_type": "stream",
     "text": [
      "True\n",
      "False\n",
      "False\n"
     ]
    }
   ],
   "source": [
    "x = 7\n",
    "print(x > 5 and x < 10)  # Output: True\n",
    "print(x < 5 or x > 10)   # Output: False\n",
    "print(not(x > 5))        # Output: False"
   ]
  },
  {
   "cell_type": "markdown",
   "metadata": {},
   "source": [
    "### Section 4 - Bitwise Operators"
   ]
  },
  {
   "cell_type": "code",
   "execution_count": 15,
   "metadata": {},
   "outputs": [
    {
     "name": "stdout",
     "output_type": "stream",
     "text": [
      "1\n",
      "7\n",
      "6\n",
      "-6\n",
      "10\n",
      "2\n"
     ]
    }
   ],
   "source": [
    "a = 5  # 5 in binary is 101\n",
    "b = 3  # 3 in binary is 011\n",
    "\n",
    "print(a & b)  # Output: 1 (001 in binary)\n",
    "print(a | b)  # Output: 7 (111 in binary)\n",
    "print(a ^ b)  # Output: 6 (110 in binary)\n",
    "print(~a)     # Output: -6 (complement of 5)\n",
    "print(a << 1) # Output: 10 (shift to left, 1010 in binary)\n",
    "print(a >> 1) # Output: 2 (shift to right, 10 in binary)"
   ]
  },
  {
   "cell_type": "markdown",
   "metadata": {},
   "source": [
    "### Additional Notes\n",
    "\n",
    "- Bitwise just for additional and good to know about that operators"
   ]
  },
  {
   "cell_type": "markdown",
   "metadata": {},
   "source": [
    "#### Written By: LC128 - Stanley Nathanael Wijaya"
   ]
  }
 ],
 "metadata": {
  "kernelspec": {
   "display_name": "Python 3",
   "language": "python",
   "name": "python3"
  },
  "language_info": {
   "codemirror_mode": {
    "name": "ipython",
    "version": 3
   },
   "file_extension": ".py",
   "mimetype": "text/x-python",
   "name": "python",
   "nbconvert_exporter": "python",
   "pygments_lexer": "ipython3",
   "version": "3.10.6"
  }
 },
 "nbformat": 4,
 "nbformat_minor": 2
}
