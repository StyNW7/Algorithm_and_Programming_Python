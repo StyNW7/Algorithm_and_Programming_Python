{
 "cells": [
  {
   "cell_type": "markdown",
   "metadata": {},
   "source": [
    "# Session 05&06 - Data Structures"
   ]
  },
  {
   "cell_type": "markdown",
   "metadata": {},
   "source": [
    "### Course Outline\n",
    "\n",
    "<ul>\n",
    "  <li>Insert, Update, and Delete with List</li>\n",
    "  <li>Indexing and Slicing with List</li>\n",
    "  <li>About List, Tuple, Dictionary, and Set</li>\n",
    "  <li>Insert, Update, and Delete using Dictionary</li>\n",
    "  <li>Insert, Update, and Delete using Tuple</li>\n",
    "</ul>"
   ]
  },
  {
   "cell_type": "markdown",
   "metadata": {},
   "source": [
    "### Section 0 - Insert, Update, and Delete with List"
   ]
  },
  {
   "cell_type": "code",
   "execution_count": 7,
   "metadata": {},
   "outputs": [
    {
     "name": "stdout",
     "output_type": "stream",
     "text": [
      "List awal: [10, 20, 30, 40, 50]\n",
      "Setelah insert 60: [10, 20, 30, 40, 50, 60]\n",
      "Setelah insert 25 pada index 2: [10, 20, 25, 30, 40, 50, 60]\n",
      "Setelah update index 3 menjadi 35: [10, 20, 25, 35, 40, 50, 60]\n",
      "Setelah delete elemen 50: [10, 20, 25, 35, 40, 60]\n",
      "Setelah delete elemen pada index 0: [20, 25, 35, 40, 60]\n"
     ]
    }
   ],
   "source": [
    "# List Inisilization = []\n",
    "my_list = [10, 20, 30, 40, 50]\n",
    "print(\"List awal:\", my_list)\n",
    "\n",
    "# Append(value)\n",
    "my_list.append(60)\n",
    "print(\"Setelah insert 60:\", my_list)\n",
    "\n",
    "# Insert(index, value)\n",
    "my_list.insert(2, 25)\n",
    "print(\"Setelah insert 25 pada index 2:\", my_list)\n",
    "\n",
    "# Update -> change value\n",
    "my_list[3] = 35\n",
    "print(\"Setelah update index 3 menjadi 35:\", my_list)\n",
    "\n",
    "# Remove searching value\n",
    "my_list.remove(50)\n",
    "print(\"Setelah delete elemen 50:\", my_list)\n",
    "\n",
    "# Delete at index ...\n",
    "del my_list[0]\n",
    "print(\"Setelah delete elemen pada index 0:\", my_list)"
   ]
  },
  {
   "cell_type": "markdown",
   "metadata": {},
   "source": [
    "### Section 1 - Indexing and Slicing with List"
   ]
  },
  {
   "cell_type": "code",
   "execution_count": 8,
   "metadata": {},
   "outputs": [
    {
     "name": "stdout",
     "output_type": "stream",
     "text": [
      "Elemen pada index 2: 30\n",
      "Elemen dari index 1 hingga 4: [20, 30, 40, 50]\n",
      "Elemen dari index 3 hingga akhir: [40, 50, 60]\n",
      "Elemen sebelum index 4: [10, 20, 30, 40]\n"
     ]
    }
   ],
   "source": [
    "my_list = [10, 20, 30, 40, 50, 60]\n",
    "\n",
    "# Indexing\n",
    "print(\"Elemen pada index 2:\", my_list[2])  # 30\n",
    "\n",
    "# Slicing\n",
    "print(\"Elemen dari index 1 hingga 4:\", my_list[1:5])  # [20, 30, 40, 50]\n",
    "print(\"Elemen dari index 3 hingga akhir:\", my_list[3:])  # [40, 50, 60]\n",
    "print(\"Elemen sebelum index 4:\", my_list[:4])  # [10, 20, 30, 40]"
   ]
  },
  {
   "cell_type": "markdown",
   "metadata": {},
   "source": [
    "### Section 2 - Tuples"
   ]
  },
  {
   "cell_type": "code",
   "execution_count": 9,
   "metadata": {},
   "outputs": [
    {
     "name": "stdout",
     "output_type": "stream",
     "text": [
      "Tuple awal: (10, 20, 30, 40, 50)\n",
      "Elemen pada index 2: 30\n",
      "Elemen dari index 1 hingga 4: (20, 30, 40)\n"
     ]
    }
   ],
   "source": [
    "# Tuples\n",
    "my_tuple = (10, 20, 30, 40, 50)\n",
    "print(\"Tuple awal:\", my_tuple)\n",
    "\n",
    "# Indexing\n",
    "print(\"Elemen pada index 2:\", my_tuple[2])\n",
    "\n",
    "# Slicing\n",
    "print(\"Elemen dari index 1 hingga 4:\", my_tuple[1:4])\n",
    "\n",
    "# Because tuple immutable, this operation cannot be executed:\n",
    "# my_tuple[1] = 25  # will error\n"
   ]
  },
  {
   "cell_type": "markdown",
   "metadata": {},
   "source": [
    "### Section 3 - Dictionary"
   ]
  },
  {
   "cell_type": "code",
   "execution_count": 10,
   "metadata": {},
   "outputs": [
    {
     "name": "stdout",
     "output_type": "stream",
     "text": [
      "Dictionary awal: {'name': 'Alice', 'age': 25, 'city': 'New York'}\n",
      "Setelah insert country: {'name': 'Alice', 'age': 25, 'city': 'New York', 'country': 'USA'}\n",
      "Setelah update age: {'name': 'Alice', 'age': 26, 'city': 'New York', 'country': 'USA'}\n",
      "Setelah delete city: {'name': 'Alice', 'age': 26, 'country': 'USA'}\n"
     ]
    }
   ],
   "source": [
    "# Dictionary = {'key': value}\n",
    "my_dict = {'name': 'Alice', 'age': 25, 'city': 'New York'}\n",
    "print(\"Dictionary awal:\", my_dict)\n",
    "\n",
    "# Insert\n",
    "my_dict['country'] = 'USA'\n",
    "print(\"Setelah insert country:\", my_dict)\n",
    "\n",
    "# Update\n",
    "my_dict['age'] = 26\n",
    "print(\"Setelah update age:\", my_dict)\n",
    "\n",
    "# Delete\n",
    "del my_dict['city']\n",
    "print(\"Setelah delete city:\", my_dict)\n"
   ]
  },
  {
   "cell_type": "markdown",
   "metadata": {},
   "source": [
    "### Section 4 - Sets"
   ]
  },
  {
   "cell_type": "code",
   "execution_count": 11,
   "metadata": {},
   "outputs": [
    {
     "name": "stdout",
     "output_type": "stream",
     "text": [
      "Set awal: {50, 20, 40, 10, 30}\n",
      "Setelah insert 60: {50, 20, 40, 10, 60, 30}\n",
      "Setelah delete 30: {50, 20, 40, 10, 60}\n",
      "Union: {1, 2, 3, 4, 5, 6}\n",
      "Intersection: {3, 4}\n",
      "Difference: {1, 2}\n"
     ]
    }
   ],
   "source": [
    "# Set  = {} => Immutable\n",
    "my_set = {10, 20, 30, 40, 50}\n",
    "print(\"Set awal:\", my_set)\n",
    "\n",
    "# Insert\n",
    "my_set.add(60)\n",
    "print(\"Setelah insert 60:\", my_set)\n",
    "\n",
    "# Delete\n",
    "my_set.remove(30)\n",
    "print(\"Setelah delete 30:\", my_set)\n",
    "\n",
    "# Operation using sets\n",
    "set1 = {1, 2, 3, 4}\n",
    "set2 = {3, 4, 5, 6}\n",
    "print(\"Union:\", set1 | set2)  # {1, 2, 3, 4, 5, 6}\n",
    "print(\"Intersection:\", set1 & set2)  # {3, 4}\n",
    "print(\"Difference:\", set1 - set2)  # {1, 2}\n"
   ]
  },
  {
   "cell_type": "markdown",
   "metadata": {},
   "source": [
    "### Additional Notes\n",
    "\n",
    "Notes..."
   ]
  },
  {
   "cell_type": "markdown",
   "metadata": {},
   "source": [
    "#### Written By: LC128 - Stanley Nathanael Wijaya"
   ]
  }
 ],
 "metadata": {
  "kernelspec": {
   "display_name": "Python 3",
   "language": "python",
   "name": "python3"
  },
  "language_info": {
   "codemirror_mode": {
    "name": "ipython",
    "version": 3
   },
   "file_extension": ".py",
   "mimetype": "text/x-python",
   "name": "python",
   "nbconvert_exporter": "python",
   "pygments_lexer": "ipython3",
   "version": "3.10.6"
  }
 },
 "nbformat": 4,
 "nbformat_minor": 2
}
