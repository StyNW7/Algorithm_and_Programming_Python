{
 "cells": [
  {
   "cell_type": "markdown",
   "metadata": {},
   "source": [
    "# Session 04 - Repetition"
   ]
  },
  {
   "cell_type": "markdown",
   "metadata": {},
   "source": [
    "### Course Outline\n",
    "\n",
    "<ul>\n",
    "  <li>For</li>\n",
    "  <li>while</li>\n",
    "  <li>Do Whiile</li>\n",
    "  <li>Jump Operators</li>\n",
    "</ul>\n"
   ]
  },
  {
   "cell_type": "markdown",
   "metadata": {},
   "source": [
    "### Section 0 - For Loop"
   ]
  },
  {
   "cell_type": "code",
   "execution_count": 1,
   "metadata": {},
   "outputs": [
    {
     "name": "stdout",
     "output_type": "stream",
     "text": [
      "Angka: 1\n",
      "Angka: 2\n",
      "Angka: 3\n",
      "Angka: 4\n",
      "Angka: 5\n"
     ]
    }
   ],
   "source": [
    "angka_list = [1, 2, 3, 4, 5]\n",
    "for angka in angka_list:\n",
    "    print(f\"Angka: {angka}\")"
   ]
  },
  {
   "cell_type": "code",
   "execution_count": 2,
   "metadata": {},
   "outputs": [
    {
     "name": "stdout",
     "output_type": "stream",
     "text": [
      "Perulangan ke-1\n",
      "Perulangan ke-2\n",
      "Perulangan ke-3\n",
      "Perulangan ke-4\n",
      "Perulangan ke-5\n"
     ]
    }
   ],
   "source": [
    "for i in range(1, 6):\n",
    "    print(f\"Perulangan ke-{i}\")\n"
   ]
  },
  {
   "cell_type": "markdown",
   "metadata": {},
   "source": [
    "### Section 1 - While Loop"
   ]
  },
  {
   "cell_type": "code",
   "execution_count": 3,
   "metadata": {},
   "outputs": [
    {
     "name": "stdout",
     "output_type": "stream",
     "text": [
      "Angka: 1\n",
      "Angka: 2\n",
      "Angka: 3\n",
      "Angka: 4\n",
      "Angka: 5\n"
     ]
    }
   ],
   "source": [
    "angka = 1\n",
    "while angka <= 5:\n",
    "    print(f\"Angka: {angka}\")\n",
    "    angka += 1"
   ]
  },
  {
   "cell_type": "markdown",
   "metadata": {},
   "source": [
    "### Section 2 - Do While"
   ]
  },
  {
   "cell_type": "code",
   "execution_count": 4,
   "metadata": {},
   "outputs": [
    {
     "name": "stdout",
     "output_type": "stream",
     "text": [
      "Angka: 1\n",
      "Angka: 2\n",
      "Angka: 3\n",
      "Angka: 4\n",
      "Angka: 5\n"
     ]
    }
   ],
   "source": [
    "angka = 1\n",
    "while True:\n",
    "    print(f\"Angka: {angka}\")\n",
    "    angka += 1\n",
    "    if angka > 5:\n",
    "        break\n"
   ]
  },
  {
   "cell_type": "markdown",
   "metadata": {},
   "source": [
    "### Section 3 - Jump Operators"
   ]
  },
  {
   "cell_type": "code",
   "execution_count": 5,
   "metadata": {},
   "outputs": [
    {
     "name": "stdout",
     "output_type": "stream",
     "text": [
      "Perulangan ke-1\n",
      "Perulangan ke-2\n",
      "Perulangan ke-3\n",
      "Perulangan ke-4\n"
     ]
    }
   ],
   "source": [
    "for i in range(1, 10):\n",
    "    if i == 5:\n",
    "        break\n",
    "    print(f\"Perulangan ke-{i}\")"
   ]
  },
  {
   "cell_type": "code",
   "execution_count": 6,
   "metadata": {},
   "outputs": [
    {
     "name": "stdout",
     "output_type": "stream",
     "text": [
      "Perulangan ke-1\n",
      "Perulangan ke-2\n",
      "Perulangan ke-4\n",
      "Perulangan ke-5\n"
     ]
    }
   ],
   "source": [
    "for i in range(1, 6):\n",
    "    if i == 3:\n",
    "        continue\n",
    "    print(f\"Perulangan ke-{i}\")"
   ]
  },
  {
   "cell_type": "code",
   "execution_count": 7,
   "metadata": {},
   "outputs": [
    {
     "name": "stdout",
     "output_type": "stream",
     "text": [
      "Perulangan ke-1\n",
      "Perulangan ke-2\n",
      "Perulangan ke-3\n",
      "Perulangan ke-4\n",
      "Perulangan ke-5\n"
     ]
    }
   ],
   "source": [
    "for i in range(1, 6):\n",
    "    if i == 3:\n",
    "        pass\n",
    "    print(f\"Perulangan ke-{i}\")"
   ]
  },
  {
   "cell_type": "markdown",
   "metadata": {},
   "source": [
    "### Additional Notes\n",
    "\n",
    "Notes..."
   ]
  },
  {
   "cell_type": "markdown",
   "metadata": {},
   "source": [
    "#### Written By: LC128 - Stanley Nathanael Wijaya"
   ]
  }
 ],
 "metadata": {
  "kernelspec": {
   "display_name": "Python 3",
   "language": "python",
   "name": "python3"
  },
  "language_info": {
   "codemirror_mode": {
    "name": "ipython",
    "version": 3
   },
   "file_extension": ".py",
   "mimetype": "text/x-python",
   "name": "python",
   "nbconvert_exporter": "python",
   "pygments_lexer": "ipython3",
   "version": "3.10.6"
  }
 },
 "nbformat": 4,
 "nbformat_minor": 2
}
