{
 "cells": [
  {
   "cell_type": "markdown",
   "metadata": {},
   "source": [
    "# Session 01 - Introduction to Python"
   ]
  },
  {
   "cell_type": "markdown",
   "metadata": {},
   "source": [
    "### Course Outline\n",
    "\n",
    "<ul>\n",
    "  <li>Python Structure</li>\n",
    "  <li>Variables</li>\n",
    "  <li>Strings</li>\n",
    "  <li>Numbers</li>\n",
    "  <li>Comments</li>\n",
    "  <li>Data Types</li>\n",
    "  <li>Input</li>\n",
    "  <li>Output</li>\n",
    "</ul>\n"
   ]
  },
  {
   "cell_type": "markdown",
   "metadata": {},
   "source": [
    "### Section 0 - Python Structure\n",
    "\n",
    "- Indentation like space or tab is very important in Python\n",
    "- There is no semicolon in Python, but only using indentation"
   ]
  },
  {
   "cell_type": "markdown",
   "metadata": {},
   "source": [
    "### Section 1 - Comments"
   ]
  },
  {
   "cell_type": "code",
   "execution_count": 1,
   "metadata": {},
   "outputs": [
    {
     "data": {
      "text/plain": [
       "'\\nMulti\\nLine\\nComments\\n'"
      ]
     },
     "execution_count": 1,
     "metadata": {},
     "output_type": "execute_result"
    }
   ],
   "source": [
    "# Comments\n",
    "\n",
    "# Single Comment\n",
    "\n",
    "'''\n",
    "Multi\n",
    "Line\n",
    "Comments\n",
    "'''"
   ]
  },
  {
   "cell_type": "markdown",
   "metadata": {},
   "source": [
    "### Section 2 - Output  & Escaape Sequence"
   ]
  },
  {
   "cell_type": "code",
   "execution_count": 2,
   "metadata": {},
   "outputs": [
    {
     "name": "stdout",
     "output_type": "stream",
     "text": [
      "Hello World\n",
      "Hello World\n",
      "\n",
      "Hello Worl\n",
      "Hello World\t\n",
      "Hello Stanley\n",
      "\n"
     ]
    }
   ],
   "source": [
    "# Output\n",
    "\n",
    "print(\"Hello World\")\n",
    "\n",
    "# Escape Sequence\n",
    "\n",
    "'''\n",
    "\\n: Enter\n",
    "\\b: Backspace\n",
    "\\t: Tab\n",
    "'''\n",
    "\n",
    "print(\"Hello World\\n\")\n",
    "print(\"Hello World\\b\")\n",
    "print(\"Hello World\\t\")\n",
    "\n",
    "print (\"Hello Stanley\\n\")"
   ]
  },
  {
   "cell_type": "markdown",
   "metadata": {},
   "source": [
    "### Section 3 - Variables and Data Types"
   ]
  },
  {
   "cell_type": "code",
   "execution_count": 3,
   "metadata": {},
   "outputs": [
    {
     "name": "stdout",
     "output_type": "stream",
     "text": [
      "Hello Stanley\n",
      "Hello Stanley\n",
      "Hello Stanley, is your age 18?\n"
     ]
    }
   ],
   "source": [
    "# Variables, Data Types, and Print Formatting\n",
    "\n",
    "name = \"Stanley\" # string\n",
    "age = 18 # integer / int\n",
    "pi = 3.14 # decimal / float\n",
    "win = True # boolean\n",
    "\n",
    "print (\"Hello\", name)\n",
    "print (\"Hello \" + name)\n",
    "\n",
    "print(f\"Hello {name}, is your age {age}?\")"
   ]
  },
  {
   "cell_type": "markdown",
   "metadata": {},
   "source": [
    "### Section 4 - Input"
   ]
  },
  {
   "cell_type": "code",
   "execution_count": 4,
   "metadata": {},
   "outputs": [
    {
     "name": "stdout",
     "output_type": "stream",
     "text": [
      "My name is Stan, my age is 18\n",
      "My name is STAN, my age is 18\n"
     ]
    }
   ],
   "source": [
    "# Input\n",
    "\n",
    "name2 = input(\"Name: \")\n",
    "age2 = input(\"Age: \")\n",
    "\n",
    "print (f\"My name is {name2}, my age is {age2}\")\n",
    "\n",
    "# String manipulation\n",
    "\n",
    "name2 = name2.upper()\n",
    "# Lower -> name2 = name2.lower()\n",
    "\n",
    "print (f\"My name is {name2}, my age is {age2}\")"
   ]
  },
  {
   "cell_type": "markdown",
   "metadata": {},
   "source": [
    "### Additional Notes\n",
    "\n",
    "- Explore more about Printing Styles\n",
    "- Learn to read error message"
   ]
  },
  {
   "cell_type": "markdown",
   "metadata": {},
   "source": [
    "#### Written By: LC128 - Stanley Nathanael Wijaya"
   ]
  }
 ],
 "metadata": {
  "kernelspec": {
   "display_name": "Python 3",
   "language": "python",
   "name": "python3"
  },
  "language_info": {
   "codemirror_mode": {
    "name": "ipython",
    "version": 3
   },
   "file_extension": ".py",
   "mimetype": "text/x-python",
   "name": "python",
   "nbconvert_exporter": "python",
   "pygments_lexer": "ipython3",
   "version": "3.10.6"
  }
 },
 "nbformat": 4,
 "nbformat_minor": 2
}
